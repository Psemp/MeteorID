{
 "cells": [
  {
   "cell_type": "code",
   "execution_count": 1,
   "metadata": {},
   "outputs": [],
   "source": [
    "import pandas as pd\n",
    "import numpy as np\n",
    "import os\n",
    "import sys\n",
    "import h5py\n",
    "import gc\n",
    "\n",
    "from PIL import Image\n",
    "from dotenv import load_dotenv\n",
    "\n",
    "sys.path.append(\"../\")\n",
    "\n",
    "load_dotenv()\n",
    "\n",
    "# Setting default DPI, pulling it from dotenv if it exists, setting it on 100 if not\n",
    "\n",
    "try:\n",
    "    pc_dpi = int(os.getenv('DPI'))\n",
    "except TypeError:\n",
    "    pc_dpi = 100\n",
    "if pc_dpi is None:\n",
    "    pc_dpi = 100\n"
   ]
  },
  {
   "cell_type": "markdown",
   "metadata": {},
   "source": [
    "# Loading and converting images to H5 files for use in tensorflow\n",
    "- Loading dataframe referencing the images\n",
    "- Removing the categories with a too small image count\n",
    "- Organisation images by categories in list\n",
    "- Loading images into a dictionnary per category, converting and exporting to h5"
   ]
  },
  {
   "cell_type": "code",
   "execution_count": 2,
   "metadata": {},
   "outputs": [],
   "source": [
    "df_images = pd.read_pickle(filepath_or_buffer=\"../data/dataset_images_paths.pkl\")\n"
   ]
  },
  {
   "cell_type": "code",
   "execution_count": null,
   "metadata": {},
   "outputs": [],
   "source": [
    "def get_image_count(df):\n",
    "    df_exploded = df.explode(\"images\")\n",
    "    \n",
    "    image_counts = df_exploded[\"mtype\"].value_counts()\n",
    "    \n",
    "    return image_counts\n",
    "\n",
    "\n",
    "get_image_count(df=df_images)\n"
   ]
  },
  {
   "cell_type": "code",
   "execution_count": 4,
   "metadata": {},
   "outputs": [],
   "source": [
    "# Keeping :\n",
    "\n",
    "category_keep = [\"H6\", \"L6\", \"H5\", \"LL5\", \"H5-6\", \"LL6\", \"L5\"]\n",
    "\n",
    "df_images = df_images[df_images[\"mtype\"].isin(category_keep)]\n"
   ]
  },
  {
   "cell_type": "code",
   "execution_count": null,
   "metadata": {},
   "outputs": [],
   "source": [
    "get_image_count(df=df_images)\n"
   ]
  },
  {
   "cell_type": "code",
   "execution_count": 6,
   "metadata": {},
   "outputs": [],
   "source": [
    "# images path list :\n",
    "# relative path of image is : ../data/processed_images/{image_name}  (extension in name)\n",
    "\n",
    "df_exploded = df_images.explode(\"images\")\n",
    "\n",
    "h6_list = df_exploded[df_exploded[\"mtype\"] == \"H6\"][\"images\"].values.tolist()\n",
    "l6_list = df_exploded[df_exploded[\"mtype\"] == \"L6\"][\"images\"].values.tolist()\n",
    "h5_list = df_exploded[df_exploded[\"mtype\"] == \"H5\"][\"images\"].values.tolist()\n",
    "ll5_list = df_exploded[df_exploded[\"mtype\"] == \"LL5\"][\"images\"].values.tolist()\n",
    "h56_list = df_exploded[df_exploded[\"mtype\"] == \"H5-6\"][\"images\"].values.tolist()\n",
    "ll6_list = df_exploded[df_exploded[\"mtype\"] == \"LL6\"][\"images\"].values.tolist()\n",
    "l5_list = df_exploded[df_exploded[\"mtype\"] == \"L5\"][\"images\"].values.tolist()\n"
   ]
  },
  {
   "cell_type": "code",
   "execution_count": 7,
   "metadata": {},
   "outputs": [],
   "source": [
    "prefix = \"../data/processed_images/\"\n",
    "\n",
    "h6_list = [prefix + im_path for im_path in h6_list]\n",
    "l6_list = [prefix + im_path for im_path in l6_list]\n",
    "h5_list = [prefix + im_path for im_path in h5_list]\n",
    "ll5_list = [prefix + im_path for im_path in ll5_list]\n",
    "h56_list = [prefix + im_path for im_path in h56_list]\n",
    "ll6_list = [prefix + im_path for im_path in ll6_list]\n",
    "l5_list = [prefix + im_path for im_path in l5_list]\n"
   ]
  },
  {
   "cell_type": "code",
   "execution_count": 8,
   "metadata": {},
   "outputs": [],
   "source": [
    "# Dict where each mtype corresponds to its list of image paths\n",
    "image_dict = {\n",
    "    \"H6\": h6_list,\n",
    "    \"L6\": l6_list,\n",
    "    \"H5\": h5_list,\n",
    "    \"LL5\": ll5_list,\n",
    "    \"H5-6\": h56_list,\n",
    "    \"LL6\": ll6_list,\n",
    "    \"L5\": l5_list\n",
    "}\n"
   ]
  },
  {
   "cell_type": "code",
   "execution_count": 9,
   "metadata": {},
   "outputs": [],
   "source": [
    "def load_and_process_image(image_path):\n",
    "    img = Image.open(image_path)\n",
    "    img_array = np.array(img)\n",
    "    img_array = img_array / 255.0  # Normalize pixel values to range [0, 1]\n",
    "    gc.collect()\n",
    "    return img_array\n"
   ]
  },
  {
   "cell_type": "code",
   "execution_count": null,
   "metadata": {},
   "outputs": [],
   "source": [
    "# This is a very memory heavy process\n",
    "\n",
    "processed_image_dict = {}\n",
    "\n",
    "for mtype, image_paths in image_dict.items():\n",
    "    processed_images = []\n",
    "    \n",
    "    for image_path in image_paths:\n",
    "        try:\n",
    "            processed_image = load_and_process_image(image_path, target_size=(400, 400))\n",
    "            processed_images.append(processed_image)\n",
    "        except FileNotFoundError:\n",
    "            pass\n",
    "        except Exception as e:\n",
    "            print(f\"Error loading {image_path}: {e}\")\n",
    "    \n",
    "    processed_image_dict[mtype] = np.array(processed_images)\n"
   ]
  },
  {
   "cell_type": "markdown",
   "metadata": {},
   "source": []
  }
 ],
 "metadata": {
  "kernelspec": {
   "display_name": "env",
   "language": "python",
   "name": "python3"
  },
  "language_info": {
   "codemirror_mode": {
    "name": "ipython",
    "version": 3
   },
   "file_extension": ".py",
   "mimetype": "text/x-python",
   "name": "python",
   "nbconvert_exporter": "python",
   "pygments_lexer": "ipython3",
   "version": "3.11.10"
  }
 },
 "nbformat": 4,
 "nbformat_minor": 2
}
