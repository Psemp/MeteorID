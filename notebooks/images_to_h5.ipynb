{
 "cells": [
  {
   "cell_type": "code",
   "execution_count": 1,
   "metadata": {},
   "outputs": [],
   "source": [
    "import pandas as pd\n",
    "import numpy as np\n",
    "import os\n",
    "import sys\n",
    "import h5py\n",
    "import cv2\n",
    "\n",
    "from sklearn.model_selection import train_test_split\n",
    "from dotenv import load_dotenv\n",
    "\n",
    "sys.path.append(\"../\")\n",
    "\n",
    "load_dotenv()\n",
    "\n",
    "# Setting default DPI, pulling it from dotenv if it exists, setting it on 100 if not\n",
    "\n",
    "try:\n",
    "    pc_dpi = int(os.getenv('DPI'))\n",
    "except TypeError:\n",
    "    pc_dpi = 100\n",
    "if pc_dpi is None:\n",
    "    pc_dpi = 100\n"
   ]
  },
  {
   "cell_type": "markdown",
   "metadata": {},
   "source": [
    "# Loading and converting images to H5 files for use in tensorflow\n",
    "- Loading dataframe referencing the images\n",
    "- Removing the categories with a too small image count\n",
    "- Organisation images by categories in list\n",
    "- Loading images into a dictionnary per category, converting and exporting to h5"
   ]
  },
  {
   "cell_type": "code",
   "execution_count": 2,
   "metadata": {},
   "outputs": [],
   "source": [
    "df_images = pd.read_pickle(filepath_or_buffer=\"../data/dataset_images_paths.pkl\")\n"
   ]
  },
  {
   "cell_type": "code",
   "execution_count": 3,
   "metadata": {},
   "outputs": [
    {
     "data": {
      "text/plain": [
       "mtype\n",
       "H5       1270\n",
       "H6       1143\n",
       "LL5       850\n",
       "L6        820\n",
       "H5-6      544\n",
       "LL6       510\n",
       "L5        459\n",
       "L4          4\n",
       "L5-6        4\n",
       "L3.8        3\n",
       "LL5-6       3\n",
       "CV3         2\n",
       "LL4         2\n",
       "Name: count, dtype: int64"
      ]
     },
     "execution_count": 3,
     "metadata": {},
     "output_type": "execute_result"
    }
   ],
   "source": [
    "def get_image_count(df):\n",
    "    df_exploded = df.explode(\"images\")\n",
    "    \n",
    "    image_counts = df_exploded[\"mtype\"].value_counts()\n",
    "    \n",
    "    return image_counts\n",
    "\n",
    "\n",
    "get_image_count(df=df_images)\n"
   ]
  },
  {
   "cell_type": "code",
   "execution_count": 4,
   "metadata": {},
   "outputs": [],
   "source": [
    "# Keeping :\n",
    "\n",
    "category_keep = [\"H6\", \"L6\", \"H5\", \"LL5\", \"H5-6\", \"LL6\", \"L5\"]\n",
    "\n",
    "df_images = df_images[df_images[\"mtype\"].isin(category_keep)]\n"
   ]
  },
  {
   "cell_type": "code",
   "execution_count": 5,
   "metadata": {},
   "outputs": [
    {
     "data": {
      "text/plain": [
       "mtype\n",
       "H5      1270\n",
       "H6      1143\n",
       "LL5      850\n",
       "L6       820\n",
       "H5-6     544\n",
       "LL6      510\n",
       "L5       459\n",
       "Name: count, dtype: int64"
      ]
     },
     "execution_count": 5,
     "metadata": {},
     "output_type": "execute_result"
    }
   ],
   "source": [
    "get_image_count(df=df_images)\n"
   ]
  },
  {
   "cell_type": "code",
   "execution_count": 6,
   "metadata": {},
   "outputs": [],
   "source": [
    "# images path list :\n",
    "# relative path of image is : ../data/processed_images/{image_name}  (extension in name)\n",
    "\n",
    "df_exploded = df_images.explode(\"images\")\n"
   ]
  },
  {
   "cell_type": "code",
   "execution_count": 7,
   "metadata": {},
   "outputs": [],
   "source": [
    "prefix = \"../data/processed_images/\"\n",
    "if os.name == \"nt\":\n",
    "    prefix = \"..\\\\data\\\\processed_images\\\\\"\n",
    "\n",
    "df_export = df_exploded[[\"mtype\", \"images\"]].copy()\n",
    "\n",
    "df_export.loc[:, \"images\"] = df_export[\"images\"].apply(lambda x: prefix + x)\n"
   ]
  },
  {
   "cell_type": "code",
   "execution_count": 8,
   "metadata": {},
   "outputs": [
    {
     "name": "stdout",
     "output_type": "stream",
     "text": [
      "Removed 684 non-existent image paths.\n"
     ]
    },
    {
     "data": {
      "text/plain": [
       "mtype\n",
       "H6      1016\n",
       "H5      1016\n",
       "LL5      800\n",
       "L6       656\n",
       "H5-6     512\n",
       "LL6      480\n",
       "L5       432\n",
       "Name: count, dtype: int64"
      ]
     },
     "execution_count": 8,
     "metadata": {},
     "output_type": "execute_result"
    }
   ],
   "source": [
    "def filter_existing_paths(df, image_column=\"images\"):\n",
    "    \"\"\"\n",
    "    Filter DataFrame rows where image paths exist.\n",
    "    \"\"\"\n",
    "    # Only keep rows where the image file exists\n",
    "    df_filtered = df[df[image_column].apply(lambda img: os.path.exists(img))].copy()\n",
    "    \n",
    "    # Log how many non-existent paths were culled\n",
    "    culled_count = len(df) - len(df_filtered)\n",
    "    print(f\"Removed {culled_count} non-existent image paths.\")\n",
    "    \n",
    "    return df_filtered.reset_index(drop=True)\n",
    "\n",
    "\n",
    "df_export = filter_existing_paths(df=df_export)\n",
    "\n",
    "get_image_count(df=df_export)\n"
   ]
  },
  {
   "cell_type": "code",
   "execution_count": 9,
   "metadata": {},
   "outputs": [],
   "source": [
    "df_train, df_test = train_test_split(\n",
    "    df_export,\n",
    "    test_size=0.3,\n",
    "    stratify=df_export[\"mtype\"]\n",
    "    )\n",
    "\n",
    "df_test.reset_index(inplace=True)\n",
    "df_train.reset_index(inplace=True)\n"
   ]
  },
  {
   "cell_type": "code",
   "execution_count": 10,
   "metadata": {},
   "outputs": [],
   "source": [
    "height = 400\n",
    "width = height\n",
    "channel = 3  # RGB\n",
    "\n",
    "with h5py.File(\"../data/mtype_images_tf.h5\", \"w\") as h5_file:\n",
    "    image_shape_train = (len(df_train), height, width, channel)\n",
    "    image_shape_test = (len(df_test), height, width, channel)\n",
    "\n",
    "    images_train = h5_file.create_dataset(\"images_train\", image_shape_train, dtype=\"uint8\")\n",
    "    categories_train = h5_file.create_dataset(\"mtype_train\", (len(df_train), ), dtype=h5py.special_dtype(vlen=str))\n",
    "\n",
    "    images_test = h5_file.create_dataset(\"images_test\", image_shape_test, dtype=\"uint8\")\n",
    "    categories_test = h5_file.create_dataset(\"mtype_test\", (len(df_test), ), dtype=h5py.special_dtype(vlen=str))\n",
    "\n",
    "    for index, row in df_train.iterrows():\n",
    "        image = cv2.imread(row[\"images\"])\n",
    "        images_train[index] = image\n",
    "        categories_train[index] = row[\"mtype\"]\n",
    "\n",
    "    for index, row in df_test.iterrows():\n",
    "        image = cv2.imread(row[\"images\"])\n",
    "        images_test[index] = image\n",
    "        categories_test[index] = row[\"mtype\"]\n"
   ]
  },
  {
   "cell_type": "code",
   "execution_count": 11,
   "metadata": {},
   "outputs": [
    {
     "name": "stdout",
     "output_type": "stream",
     "text": [
      "Train :  mtype\n",
      "H6      711\n",
      "H5      711\n",
      "LL5     560\n",
      "L6      459\n",
      "H5-6    358\n",
      "LL6     336\n",
      "L5      303\n",
      "Name: count, dtype: int64\n",
      "Test :  mtype\n",
      "H6      305\n",
      "H5      305\n",
      "LL5     240\n",
      "L6      197\n",
      "H5-6    154\n",
      "LL6     144\n",
      "L5      129\n",
      "Name: count, dtype: int64\n"
     ]
    }
   ],
   "source": [
    "print(\"Train : \", get_image_count(df=df_train))\n",
    "print(\"Test : \", get_image_count(df=df_test))\n"
   ]
  },
  {
   "cell_type": "code",
   "execution_count": null,
   "metadata": {},
   "outputs": [],
   "source": []
  }
 ],
 "metadata": {
  "kernelspec": {
   "display_name": "env",
   "language": "python",
   "name": "python3"
  },
  "language_info": {
   "codemirror_mode": {
    "name": "ipython",
    "version": 3
   },
   "file_extension": ".py",
   "mimetype": "text/x-python",
   "name": "python",
   "nbconvert_exporter": "python",
   "pygments_lexer": "ipython3",
   "version": "3.11.4"
  }
 },
 "nbformat": 4,
 "nbformat_minor": 2
}
