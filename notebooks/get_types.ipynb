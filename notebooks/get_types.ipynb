{
 "cells": [
  {
   "cell_type": "code",
   "execution_count": 1,
   "metadata": {},
   "outputs": [],
   "source": [
    "import pandas as pd\n",
    "import seaborn as sns\n",
    "import os\n",
    "import sys\n",
    "import re\n",
    "import concurrent.futures\n",
    "\n",
    "from matplotlib import pyplot as plt\n",
    "from dotenv import load_dotenv\n",
    "from collections import defaultdict\n",
    "from dataclasses import dataclass, asdict\n",
    "\n",
    "sys.path.append(\"../\")\n",
    "\n",
    "from models.work_met import Work_met\n",
    "\n",
    "load_dotenv()\n",
    "sns.color_palette('colorblind')\n",
    "plt.style.use('Solarize_Light2')\n",
    "\n",
    "# Setting default DPI, pulling it from dotenv if it exists, setting it on 100 if not\n",
    "\n",
    "try:\n",
    "    pc_dpi = int(os.getenv('DPI'))\n",
    "except TypeError:\n",
    "    pc_dpi = 100\n",
    "if pc_dpi is None:\n",
    "    pc_dpi = 100\n"
   ]
  },
  {
   "cell_type": "code",
   "execution_count": 2,
   "metadata": {},
   "outputs": [],
   "source": [
    "def get_images(dir: str, exclusion_list: list | None = None):\n",
    "    \"\"\"Extracts  the 'work names' of the meteorites based on the pictures loaded.\"\"\"\n",
    "    images = [file for file in os.listdir(dir) if str(file).endswith(\".jpg\")]\n",
    "    if exclusion_list is not None:\n",
    "        for excluded in exclusion_list:\n",
    "            images.remove(excluded)\n",
    "\n",
    "    return images\n",
    "\n",
    "\n",
    "def get_work_names(image_list) -> dict:\n",
    "    \"\"\"Returns a dict with the expected 'work names' of the meteorites' images' names in image_list.\"\"\"\n",
    "\n",
    "    wname_fname_map = defaultdict(list)  # avoids checking for .keys() and initiates items as lists\n",
    "    for image_name in image_list:\n",
    "        # Remove file extension and parts after - or _\n",
    "        work_name = image_name.split(\".\")[0].split(\"-\")[0].split(\"_\")[0].split(\"+\")[0]\n",
    "        \n",
    "        # Clean up the work name if there are more than one alpha character after the last digit\n",
    "        if not re.search(r'\\d[a-zA-Z]{0,1}$', work_name):\n",
    "            work_name = re.sub(r'(\\d)[a-zA-Z]*$', r'\\1', work_name)\n",
    "        \n",
    "        # Append the image name to the list associated with the work name\n",
    "        wname_fname_map[work_name].append(image_name)\n",
    "\n",
    "    return dict(wname_fname_map)\n",
    "\n"
   ]
  },
  {
   "cell_type": "code",
   "execution_count": 3,
   "metadata": {},
   "outputs": [
    {
     "name": "stdout",
     "output_type": "stream",
     "text": [
      "704 images detected\n"
     ]
    }
   ],
   "source": [
    "images_paths = get_images(dir=\"../imgs/\")\n",
    "\n",
    "print(f\"{len(images_paths)} images detected\")\n"
   ]
  },
  {
   "cell_type": "code",
   "execution_count": 4,
   "metadata": {},
   "outputs": [
    {
     "name": "stdout",
     "output_type": "stream",
     "text": [
      "230 meteorites detected\n"
     ]
    }
   ],
   "source": [
    "work_names = get_work_names(image_list=images_paths)\n",
    "\n",
    "print(f\"{len(work_names)} meteorites detected\")\n"
   ]
  },
  {
   "cell_type": "code",
   "execution_count": 5,
   "metadata": {},
   "outputs": [],
   "source": [
    "work_met_list = []\n",
    "for name in work_names.keys():\n",
    "    work_met_list.append(Work_met(work_name=name, images=work_names[name]))\n"
   ]
  },
  {
   "cell_type": "code",
   "execution_count": 6,
   "metadata": {},
   "outputs": [],
   "source": [
    "def get_types_threads(work_met_list, n_threads = 25):\n",
    "    \"\"\"\n",
    "    Uses multithreading to perform concurrent requests via the method Work_met.request_type()\n",
    "    \"\"\"\n",
    "    if n_threads > 25:\n",
    "        print(f\"Thread limit of {n_threads} > 25, reducing it to 25 for fair use of the app\")\n",
    "        n_threads = 25\n",
    "\n",
    "    for work_met in work_met_list:\n",
    "        if not isinstance(work_met, Work_met):\n",
    "            raise TypeError(f\"At least one of the objects ({work_met}) is not of the class Meteorite\")\n",
    "\n",
    "    with concurrent.futures.ThreadPoolExecutor(max_workers=n_threads) as executor:\n",
    "        futures = [executor.submit(work_met.request_type) for work_met in work_met_list]\n",
    "\n",
    "        # Hopefully no error but this should be useful for debug\n",
    "        for future in concurrent.futures.as_completed(futures):\n",
    "            try:\n",
    "                future.result()\n",
    "            except Exception as e:\n",
    "                print(f\"Error occurred: {e}\")\n"
   ]
  },
  {
   "cell_type": "code",
   "execution_count": 7,
   "metadata": {},
   "outputs": [],
   "source": [
    "get_types_threads(work_met_list=work_met_list, n_threads=25)\n"
   ]
  },
  {
   "cell_type": "code",
   "execution_count": 8,
   "metadata": {},
   "outputs": [],
   "source": [
    "extract_failures = []\n",
    "\n",
    "for work_met in work_met_list:\n",
    "    try:\n",
    "        if work_met.mtype is not None:\n",
    "            pass\n",
    "        else:\n",
    "            extract_failures.append(work_met.work_name)\n",
    "    except AttributeError:\n",
    "        extract_failures.append(work_met.work_name)\n"
   ]
  },
  {
   "cell_type": "code",
   "execution_count": 9,
   "metadata": {},
   "outputs": [
    {
     "name": "stdout",
     "output_type": "stream",
     "text": [
      "18\n"
     ]
    }
   ],
   "source": [
    "print(extract_failures.__len__())\n"
   ]
  },
  {
   "cell_type": "code",
   "execution_count": 10,
   "metadata": {},
   "outputs": [],
   "source": [
    "@dataclass\n",
    "class Work_met_data:\n",
    "    work_name: str\n",
    "    mtype: str\n",
    "    images: list\n",
    "\n",
    "data_work_met = []\n",
    "\n",
    "for work_met in work_met_list:\n",
    "    data_work_met.append(Work_met_data(work_name=work_met.work_name, mtype=work_met.mtype, images=work_met.images))\n"
   ]
  },
  {
   "cell_type": "code",
   "execution_count": 11,
   "metadata": {},
   "outputs": [],
   "source": [
    "df_work_met = pd.DataFrame(data=[asdict(work_met) for work_met in data_work_met])\n"
   ]
  },
  {
   "cell_type": "markdown",
   "metadata": {},
   "source": [
    "## Identified unique types :"
   ]
  },
  {
   "cell_type": "code",
   "execution_count": 12,
   "metadata": {},
   "outputs": [
    {
     "data": {
      "text/plain": [
       "mtype\n",
       "H5       84\n",
       "L6       42\n",
       "H6       34\n",
       "LL5      21\n",
       "None     18\n",
       "H5-6     10\n",
       "LL6       8\n",
       "L5        7\n",
       "LL5-6     1\n",
       "L5-6      1\n",
       "CV3       1\n",
       "L4        1\n",
       "L3.8      1\n",
       "LL4       1\n",
       "Name: count, dtype: int64"
      ]
     },
     "metadata": {},
     "output_type": "display_data"
    }
   ],
   "source": [
    "# Unique types :\n",
    "display(df_work_met[\"mtype\"].value_counts(dropna=False))\n"
   ]
  },
  {
   "cell_type": "markdown",
   "metadata": {},
   "source": [
    "21 (len(extract_failures)) as none is to be expected. These have to be either fixed as request or manually. <br>\n",
    "The rest of the types needs to be reduced into common classes or excluded to avoid lack of support in classification."
   ]
  },
  {
   "cell_type": "code",
   "execution_count": 13,
   "metadata": {},
   "outputs": [
    {
     "data": {
      "text/html": [
       "<div>\n",
       "<style scoped>\n",
       "    .dataframe tbody tr th:only-of-type {\n",
       "        vertical-align: middle;\n",
       "    }\n",
       "\n",
       "    .dataframe tbody tr th {\n",
       "        vertical-align: top;\n",
       "    }\n",
       "\n",
       "    .dataframe thead th {\n",
       "        text-align: right;\n",
       "    }\n",
       "</style>\n",
       "<table border=\"1\" class=\"dataframe\">\n",
       "  <thead>\n",
       "    <tr style=\"text-align: right;\">\n",
       "      <th></th>\n",
       "      <th>work_name</th>\n",
       "      <th>mtype</th>\n",
       "      <th>images</th>\n",
       "    </tr>\n",
       "  </thead>\n",
       "  <tbody>\n",
       "    <tr>\n",
       "      <th>57</th>\n",
       "      <td>GC029</td>\n",
       "      <td>None</td>\n",
       "      <td>[GC029_T5-2.jpg, GC029_T5.jpg, GC029-T5.jpg]</td>\n",
       "    </tr>\n",
       "    <tr>\n",
       "      <th>71</th>\n",
       "      <td>GC020</td>\n",
       "      <td>None</td>\n",
       "      <td>[GC020-TROILITE.jpg]</td>\n",
       "    </tr>\n",
       "    <tr>\n",
       "      <th>81</th>\n",
       "      <td>GC234</td>\n",
       "      <td>None</td>\n",
       "      <td>[GC234-3.jpg, GC234-.jpg, GC234.jpg, GC234-chr...</td>\n",
       "    </tr>\n",
       "    <tr>\n",
       "      <th>87</th>\n",
       "      <td>GC015</td>\n",
       "      <td>None</td>\n",
       "      <td>[GC015-3.jpg, GC015-2.jpg]</td>\n",
       "    </tr>\n",
       "    <tr>\n",
       "      <th>88</th>\n",
       "      <td>GC023</td>\n",
       "      <td>None</td>\n",
       "      <td>[GC023-odd-CHONDRULES.jpg, GC023.jpg, GC023-2....</td>\n",
       "    </tr>\n",
       "    <tr>\n",
       "      <th>90</th>\n",
       "      <td>GC021</td>\n",
       "      <td>None</td>\n",
       "      <td>[GC021_T5.jpg, GC021_T5-2.jpg]</td>\n",
       "    </tr>\n",
       "    <tr>\n",
       "      <th>108</th>\n",
       "      <td>GC067</td>\n",
       "      <td>None</td>\n",
       "      <td>[GC067_T5-2.jpg, GC067_T5.jpg]</td>\n",
       "    </tr>\n",
       "    <tr>\n",
       "      <th>124</th>\n",
       "      <td>GC014b</td>\n",
       "      <td>None</td>\n",
       "      <td>[GC014b-T5-2.jpg, GC014b_Odd-PLAGIO-rim.jpg, G...</td>\n",
       "    </tr>\n",
       "    <tr>\n",
       "      <th>125</th>\n",
       "      <td>G209</td>\n",
       "      <td>None</td>\n",
       "      <td>[G209.jpg]</td>\n",
       "    </tr>\n",
       "    <tr>\n",
       "      <th>133</th>\n",
       "      <td>GC019</td>\n",
       "      <td>None</td>\n",
       "      <td>[GC019.jpg, GC019-T5.jpg]</td>\n",
       "    </tr>\n",
       "    <tr>\n",
       "      <th>141</th>\n",
       "      <td>GC024</td>\n",
       "      <td>None</td>\n",
       "      <td>[GC024.jpg, GC024-2.jpg, GC024-3.jpg, GC024-4....</td>\n",
       "    </tr>\n",
       "    <tr>\n",
       "      <th>149</th>\n",
       "      <td>RM0182</td>\n",
       "      <td>None</td>\n",
       "      <td>[RM0182.jpg]</td>\n",
       "    </tr>\n",
       "    <tr>\n",
       "      <th>168</th>\n",
       "      <td>G015</td>\n",
       "      <td>None</td>\n",
       "      <td>[G015.jpg]</td>\n",
       "    </tr>\n",
       "    <tr>\n",
       "      <th>175</th>\n",
       "      <td>RM0833</td>\n",
       "      <td>None</td>\n",
       "      <td>[RM0833.jpg]</td>\n",
       "    </tr>\n",
       "    <tr>\n",
       "      <th>180</th>\n",
       "      <td>MV064a</td>\n",
       "      <td>None</td>\n",
       "      <td>[MV064a.jpg, MV064a-4.jpg, MV064a-2.jpg, MV064...</td>\n",
       "    </tr>\n",
       "    <tr>\n",
       "      <th>188</th>\n",
       "      <td>GC010</td>\n",
       "      <td>None</td>\n",
       "      <td>[GC010.jpg]</td>\n",
       "    </tr>\n",
       "    <tr>\n",
       "      <th>197</th>\n",
       "      <td>MV064b</td>\n",
       "      <td>None</td>\n",
       "      <td>[MV064b.jpg, MV064b-2.jpg]</td>\n",
       "    </tr>\n",
       "    <tr>\n",
       "      <th>228</th>\n",
       "      <td>MC176</td>\n",
       "      <td>None</td>\n",
       "      <td>[MC176.jpg]</td>\n",
       "    </tr>\n",
       "  </tbody>\n",
       "</table>\n",
       "</div>"
      ],
      "text/plain": [
       "    work_name mtype                                             images\n",
       "57      GC029  None       [GC029_T5-2.jpg, GC029_T5.jpg, GC029-T5.jpg]\n",
       "71      GC020  None                               [GC020-TROILITE.jpg]\n",
       "81      GC234  None  [GC234-3.jpg, GC234-.jpg, GC234.jpg, GC234-chr...\n",
       "87      GC015  None                         [GC015-3.jpg, GC015-2.jpg]\n",
       "88      GC023  None  [GC023-odd-CHONDRULES.jpg, GC023.jpg, GC023-2....\n",
       "90      GC021  None                     [GC021_T5.jpg, GC021_T5-2.jpg]\n",
       "108     GC067  None                     [GC067_T5-2.jpg, GC067_T5.jpg]\n",
       "124    GC014b  None  [GC014b-T5-2.jpg, GC014b_Odd-PLAGIO-rim.jpg, G...\n",
       "125      G209  None                                         [G209.jpg]\n",
       "133     GC019  None                          [GC019.jpg, GC019-T5.jpg]\n",
       "141     GC024  None  [GC024.jpg, GC024-2.jpg, GC024-3.jpg, GC024-4....\n",
       "149    RM0182  None                                       [RM0182.jpg]\n",
       "168      G015  None                                         [G015.jpg]\n",
       "175    RM0833  None                                       [RM0833.jpg]\n",
       "180    MV064a  None  [MV064a.jpg, MV064a-4.jpg, MV064a-2.jpg, MV064...\n",
       "188     GC010  None                                        [GC010.jpg]\n",
       "197    MV064b  None                         [MV064b.jpg, MV064b-2.jpg]\n",
       "228     MC176  None                                        [MC176.jpg]"
      ]
     },
     "metadata": {},
     "output_type": "display_data"
    }
   ],
   "source": [
    "display(df_work_met[df_work_met[\"mtype\"].isna()])\n"
   ]
  },
  {
   "cell_type": "markdown",
   "metadata": {},
   "source": [
    "### Manual search :\n",
    "- Missing from website : G015, GB39,  GC : [002, 004, 005, 006, 007, 010, 014 (/, b, c), 015, 019, 021, 024, 029 (/, T5), 067, ], MA294, MC176, RM0833"
   ]
  },
  {
   "cell_type": "markdown",
   "metadata": {},
   "source": [
    "# Saving Dataset :"
   ]
  },
  {
   "cell_type": "code",
   "execution_count": 14,
   "metadata": {},
   "outputs": [],
   "source": [
    "df_work_met.to_csv(path_or_buf=\"../data/work_met_img_type_1.csv\", index=None)\n",
    "df_work_met.to_pickle(path=\"../data/work_met_img_type_1.pkl\")\n"
   ]
  }
 ],
 "metadata": {
  "kernelspec": {
   "display_name": "env",
   "language": "python",
   "name": "python3"
  },
  "language_info": {
   "codemirror_mode": {
    "name": "ipython",
    "version": 3
   },
   "file_extension": ".py",
   "mimetype": "text/x-python",
   "name": "python",
   "nbconvert_exporter": "python",
   "pygments_lexer": "ipython3",
   "version": "3.11.10"
  }
 },
 "nbformat": 4,
 "nbformat_minor": 2
}
