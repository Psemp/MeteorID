{
 "cells": [
  {
   "cell_type": "code",
   "execution_count": 1,
   "metadata": {},
   "outputs": [],
   "source": [
    "import pandas as pd\n",
    "import seaborn as sns\n",
    "import os\n",
    "import sys\n",
    "import re\n",
    "import concurrent.futures\n",
    "\n",
    "from matplotlib import pyplot as plt\n",
    "from dotenv import load_dotenv\n",
    "from collections import defaultdict\n",
    "from dataclasses import dataclass, asdict\n",
    "\n",
    "sys.path.append(\"../\")\n",
    "\n",
    "from models.work_met import Work_met\n",
    "\n",
    "load_dotenv()\n",
    "sns.color_palette('colorblind')\n",
    "plt.style.use('Solarize_Light2')\n",
    "\n",
    "# Setting default DPI, pulling it from dotenv if it exists, setting it on 100 if not\n",
    "\n",
    "try:\n",
    "    pc_dpi = int(os.getenv('DPI'))\n",
    "except TypeError:\n",
    "    pc_dpi = 100\n",
    "if pc_dpi is None:\n",
    "    pc_dpi = 100\n"
   ]
  },
  {
   "cell_type": "code",
   "execution_count": 2,
   "metadata": {},
   "outputs": [],
   "source": [
    "def get_images(dir: str, exclusion_list: list | None = None):\n",
    "    \"\"\"Extracts  the 'work names' of the meteorites based on the pictures loaded.\"\"\"\n",
    "    images = [file for file in os.listdir(dir) if str(file).endswith(\".jpg\")]\n",
    "    if exclusion_list is not None:\n",
    "        for excluded in exclusion_list:\n",
    "            images.remove(excluded)\n",
    "\n",
    "    return images\n",
    "\n",
    "\n",
    "def get_work_names(image_list) -> dict:\n",
    "    \"\"\"Returns a dict with the expected 'work names' of the meteorites' images' names in image_list.\"\"\"\n",
    "\n",
    "    wname_fname_map = defaultdict(list)  # avoids checking for .keys() and initiates items as lists\n",
    "    for image_name in image_list:\n",
    "        # Remove file extension and parts after - or _\n",
    "        work_name = image_name.split(\".\")[0].split(\"-\")[0].split(\"_\")[0].split(\"+\")[0]\n",
    "        \n",
    "        # Clean up the work name if there are more than one alpha character after the last digit\n",
    "        if not re.search(r'\\d[a-zA-Z]{0,1}$', work_name):\n",
    "            work_name = re.sub(r'(\\d)[a-zA-Z]*$', r'\\1', work_name)\n",
    "        \n",
    "        # Append the image name to the list associated with the work name\n",
    "        wname_fname_map[work_name].append(image_name)\n",
    "\n",
    "    return dict(wname_fname_map)\n",
    "\n"
   ]
  },
  {
   "cell_type": "code",
   "execution_count": 3,
   "metadata": {},
   "outputs": [
    {
     "name": "stdout",
     "output_type": "stream",
     "text": [
      "407 images detected\n"
     ]
    }
   ],
   "source": [
    "images_paths = get_images(dir=\"../imgs/\")\n",
    "\n",
    "print(f\"{len(images_paths)} images detected\")\n"
   ]
  },
  {
   "cell_type": "code",
   "execution_count": 4,
   "metadata": {},
   "outputs": [
    {
     "name": "stdout",
     "output_type": "stream",
     "text": [
      "142 meteorites detected\n"
     ]
    }
   ],
   "source": [
    "work_names = get_work_names(image_list=images_paths)\n",
    "\n",
    "print(f\"{len(work_names)} meteorites detected\")\n"
   ]
  },
  {
   "cell_type": "code",
   "execution_count": 5,
   "metadata": {},
   "outputs": [],
   "source": [
    "work_met_list = []\n",
    "for name in work_names.keys():\n",
    "    work_met_list.append(Work_met(work_name=name, images=work_names[name]))\n"
   ]
  },
  {
   "cell_type": "code",
   "execution_count": 6,
   "metadata": {},
   "outputs": [],
   "source": [
    "def get_types_threads(work_met_list, n_threads = 25):\n",
    "    \"\"\"\n",
    "    Uses multithreading to perform concurrent requests via the method Work_met.request_type()\n",
    "    \"\"\"\n",
    "    if n_threads > 25:\n",
    "        print(f\"Thread limit of {n_threads} > 25, reducing it to 25 for fair use of the app\")\n",
    "        n_threads = 25\n",
    "\n",
    "    for work_met in work_met_list:\n",
    "        if not isinstance(work_met, Work_met):\n",
    "            raise TypeError(f\"At least one of the objects ({work_met}) is not of the class Meteorite\")\n",
    "\n",
    "    with concurrent.futures.ThreadPoolExecutor(max_workers=n_threads) as executor:\n",
    "        futures = [executor.submit(work_met.request_type) for work_met in work_met_list]\n",
    "\n",
    "        # Hopefully no error but this should be useful for debug\n",
    "        for future in concurrent.futures.as_completed(futures):\n",
    "            try:\n",
    "                future.result()\n",
    "            except Exception as e:\n",
    "                print(f\"Error occurred: {e}\")\n"
   ]
  },
  {
   "cell_type": "code",
   "execution_count": 7,
   "metadata": {},
   "outputs": [],
   "source": [
    "get_types_threads(work_met_list=work_met_list, n_threads=25)\n"
   ]
  },
  {
   "cell_type": "code",
   "execution_count": 8,
   "metadata": {},
   "outputs": [],
   "source": [
    "extract_failures = []\n",
    "\n",
    "for work_met in work_met_list:\n",
    "    try:\n",
    "        if work_met.mtype is not None:\n",
    "            pass\n",
    "        else:\n",
    "            extract_failures.append(work_met.work_name)\n",
    "    except AttributeError:\n",
    "        extract_failures.append(work_met.work_name)\n"
   ]
  },
  {
   "cell_type": "code",
   "execution_count": 9,
   "metadata": {},
   "outputs": [
    {
     "name": "stdout",
     "output_type": "stream",
     "text": [
      "21\n"
     ]
    }
   ],
   "source": [
    "print(extract_failures.__len__())\n"
   ]
  },
  {
   "cell_type": "code",
   "execution_count": 10,
   "metadata": {},
   "outputs": [],
   "source": [
    "@dataclass\n",
    "class Work_met_data:\n",
    "    work_name: str\n",
    "    mtype: str\n",
    "    images: list\n",
    "\n",
    "data_work_met = []\n",
    "\n",
    "for work_met in work_met_list:\n",
    "    data_work_met.append(Work_met_data(work_name=work_met.work_name, mtype=work_met.mtype, images=work_met.images))\n"
   ]
  },
  {
   "cell_type": "code",
   "execution_count": 11,
   "metadata": {},
   "outputs": [],
   "source": [
    "df_work_met = pd.DataFrame(data=[asdict(work_met) for work_met in data_work_met])\n"
   ]
  },
  {
   "cell_type": "markdown",
   "metadata": {},
   "source": [
    "## Identified unique types :"
   ]
  },
  {
   "cell_type": "code",
   "execution_count": 12,
   "metadata": {},
   "outputs": [
    {
     "data": {
      "text/plain": [
       "mtype\n",
       "H5       45\n",
       "H6       22\n",
       "None     21\n",
       "L6       21\n",
       "LL5      13\n",
       "H5-6      7\n",
       "LL6       5\n",
       "L5        2\n",
       "L4        1\n",
       "L3.8      1\n",
       "CV3       1\n",
       "LL4       1\n",
       "L5-6      1\n",
       "LL5-6     1\n",
       "Name: count, dtype: int64"
      ]
     },
     "metadata": {},
     "output_type": "display_data"
    }
   ],
   "source": [
    "# Unique types :\n",
    "display(df_work_met[\"mtype\"].value_counts(dropna=False))\n"
   ]
  },
  {
   "cell_type": "markdown",
   "metadata": {},
   "source": [
    "21 (len(extract_failures)) as none is to be expected. These have to be either fixed as request or manually. <br>\n",
    "The rest of the types needs to be reduced into common classes or excluded to avoid lack of support in classification."
   ]
  },
  {
   "cell_type": "code",
   "execution_count": 13,
   "metadata": {},
   "outputs": [
    {
     "data": {
      "text/html": [
       "<div>\n",
       "<style scoped>\n",
       "    .dataframe tbody tr th:only-of-type {\n",
       "        vertical-align: middle;\n",
       "    }\n",
       "\n",
       "    .dataframe tbody tr th {\n",
       "        vertical-align: top;\n",
       "    }\n",
       "\n",
       "    .dataframe thead th {\n",
       "        text-align: right;\n",
       "    }\n",
       "</style>\n",
       "<table border=\"1\" class=\"dataframe\">\n",
       "  <thead>\n",
       "    <tr style=\"text-align: right;\">\n",
       "      <th></th>\n",
       "      <th>work_name</th>\n",
       "      <th>mtype</th>\n",
       "      <th>images</th>\n",
       "    </tr>\n",
       "  </thead>\n",
       "  <tbody>\n",
       "    <tr>\n",
       "      <th>1</th>\n",
       "      <td>G015</td>\n",
       "      <td>None</td>\n",
       "      <td>[G015.jpg]</td>\n",
       "    </tr>\n",
       "    <tr>\n",
       "      <th>36</th>\n",
       "      <td>GB39</td>\n",
       "      <td>None</td>\n",
       "      <td>[GB39.jpg]</td>\n",
       "    </tr>\n",
       "    <tr>\n",
       "      <th>37</th>\n",
       "      <td>GC002</td>\n",
       "      <td>None</td>\n",
       "      <td>[GC002-2.jpg, GC002-3.jpg, GC002.jpg]</td>\n",
       "    </tr>\n",
       "    <tr>\n",
       "      <th>38</th>\n",
       "      <td>GC004</td>\n",
       "      <td>None</td>\n",
       "      <td>[GC004-2.jpg, GC004-3.jpg, GC004-4.jpg, GC004....</td>\n",
       "    </tr>\n",
       "    <tr>\n",
       "      <th>39</th>\n",
       "      <td>GC005</td>\n",
       "      <td>None</td>\n",
       "      <td>[GC005.jpg]</td>\n",
       "    </tr>\n",
       "    <tr>\n",
       "      <th>40</th>\n",
       "      <td>GC006</td>\n",
       "      <td>None</td>\n",
       "      <td>[GC006-T6-2.jpg, GC006-T6-3.jpg, GC006-T6-4.jp...</td>\n",
       "    </tr>\n",
       "    <tr>\n",
       "      <th>41</th>\n",
       "      <td>GC007</td>\n",
       "      <td>None</td>\n",
       "      <td>[GC007-T6.jpg]</td>\n",
       "    </tr>\n",
       "    <tr>\n",
       "      <th>42</th>\n",
       "      <td>GC010</td>\n",
       "      <td>None</td>\n",
       "      <td>[GC010.jpg]</td>\n",
       "    </tr>\n",
       "    <tr>\n",
       "      <th>43</th>\n",
       "      <td>GC014b</td>\n",
       "      <td>None</td>\n",
       "      <td>[GC014b-T5-2.jpg, GC014b-T5.jpg, GC014b_Odd-PL...</td>\n",
       "    </tr>\n",
       "    <tr>\n",
       "      <th>44</th>\n",
       "      <td>GC014c</td>\n",
       "      <td>None</td>\n",
       "      <td>[GC014c_T5.jpg]</td>\n",
       "    </tr>\n",
       "    <tr>\n",
       "      <th>45</th>\n",
       "      <td>GC015</td>\n",
       "      <td>None</td>\n",
       "      <td>[GC015-2.jpg, GC015-3.jpg]</td>\n",
       "    </tr>\n",
       "    <tr>\n",
       "      <th>46</th>\n",
       "      <td>GC019</td>\n",
       "      <td>None</td>\n",
       "      <td>[GC019-T5.jpg, GC019.jpg]</td>\n",
       "    </tr>\n",
       "    <tr>\n",
       "      <th>47</th>\n",
       "      <td>GC021</td>\n",
       "      <td>None</td>\n",
       "      <td>[GC021_T5-2.jpg, GC021_T5.jpg]</td>\n",
       "    </tr>\n",
       "    <tr>\n",
       "      <th>48</th>\n",
       "      <td>GC024</td>\n",
       "      <td>None</td>\n",
       "      <td>[GC024-2.jpg, GC024-3.jpg, GC024-4.jpg, GC024-...</td>\n",
       "    </tr>\n",
       "    <tr>\n",
       "      <th>49</th>\n",
       "      <td>GC026</td>\n",
       "      <td>None</td>\n",
       "      <td>[GC026-T5-2.jpg, GC026-T5-3.jpg, GC026-T5.jpg]</td>\n",
       "    </tr>\n",
       "    <tr>\n",
       "      <th>50</th>\n",
       "      <td>GC029</td>\n",
       "      <td>None</td>\n",
       "      <td>[GC029-T5.jpg, GC029_T5-2.jpg, GC029_T5.jpg]</td>\n",
       "    </tr>\n",
       "    <tr>\n",
       "      <th>51</th>\n",
       "      <td>GC067</td>\n",
       "      <td>None</td>\n",
       "      <td>[GC067_T5-2.jpg, GC067_T5.jpg]</td>\n",
       "    </tr>\n",
       "    <tr>\n",
       "      <th>69</th>\n",
       "      <td>MA294</td>\n",
       "      <td>None</td>\n",
       "      <td>[MA294.jpg]</td>\n",
       "    </tr>\n",
       "    <tr>\n",
       "      <th>94</th>\n",
       "      <td>MC176</td>\n",
       "      <td>None</td>\n",
       "      <td>[MC176.jpg]</td>\n",
       "    </tr>\n",
       "    <tr>\n",
       "      <th>120</th>\n",
       "      <td>RM0182</td>\n",
       "      <td>None</td>\n",
       "      <td>[RM0182.jpg]</td>\n",
       "    </tr>\n",
       "    <tr>\n",
       "      <th>133</th>\n",
       "      <td>RM0833</td>\n",
       "      <td>None</td>\n",
       "      <td>[RM0833.jpg]</td>\n",
       "    </tr>\n",
       "  </tbody>\n",
       "</table>\n",
       "</div>"
      ],
      "text/plain": [
       "    work_name mtype                                             images\n",
       "1        G015  None                                         [G015.jpg]\n",
       "36       GB39  None                                         [GB39.jpg]\n",
       "37      GC002  None              [GC002-2.jpg, GC002-3.jpg, GC002.jpg]\n",
       "38      GC004  None  [GC004-2.jpg, GC004-3.jpg, GC004-4.jpg, GC004....\n",
       "39      GC005  None                                        [GC005.jpg]\n",
       "40      GC006  None  [GC006-T6-2.jpg, GC006-T6-3.jpg, GC006-T6-4.jp...\n",
       "41      GC007  None                                     [GC007-T6.jpg]\n",
       "42      GC010  None                                        [GC010.jpg]\n",
       "43     GC014b  None  [GC014b-T5-2.jpg, GC014b-T5.jpg, GC014b_Odd-PL...\n",
       "44     GC014c  None                                    [GC014c_T5.jpg]\n",
       "45      GC015  None                         [GC015-2.jpg, GC015-3.jpg]\n",
       "46      GC019  None                          [GC019-T5.jpg, GC019.jpg]\n",
       "47      GC021  None                     [GC021_T5-2.jpg, GC021_T5.jpg]\n",
       "48      GC024  None  [GC024-2.jpg, GC024-3.jpg, GC024-4.jpg, GC024-...\n",
       "49      GC026  None     [GC026-T5-2.jpg, GC026-T5-3.jpg, GC026-T5.jpg]\n",
       "50      GC029  None       [GC029-T5.jpg, GC029_T5-2.jpg, GC029_T5.jpg]\n",
       "51      GC067  None                     [GC067_T5-2.jpg, GC067_T5.jpg]\n",
       "69      MA294  None                                        [MA294.jpg]\n",
       "94      MC176  None                                        [MC176.jpg]\n",
       "120    RM0182  None                                       [RM0182.jpg]\n",
       "133    RM0833  None                                       [RM0833.jpg]"
      ]
     },
     "metadata": {},
     "output_type": "display_data"
    }
   ],
   "source": [
    "display(df_work_met[df_work_met[\"mtype\"].isna()])\n"
   ]
  },
  {
   "cell_type": "markdown",
   "metadata": {},
   "source": [
    "### Manual search :\n",
    "- Missing from website : G015, GB39,  GC : [002, 004, 005, 006, 007, 010, 014 (/, b, c), 015, 019, 021, 024, 029 (/, T5), 067, ], MA294, MC176, RM0833"
   ]
  },
  {
   "cell_type": "markdown",
   "metadata": {},
   "source": [
    "# Saving Dataset :"
   ]
  },
  {
   "cell_type": "code",
   "execution_count": 14,
   "metadata": {},
   "outputs": [],
   "source": [
    "df_work_met.to_csv(path_or_buf=\"../data/work_met_img_type_1.csv\", index=None)\n",
    "df_work_met.to_pickle(path=\"../data/work_met_img_type_1.pkl\")\n"
   ]
  }
 ],
 "metadata": {
  "kernelspec": {
   "display_name": "env",
   "language": "python",
   "name": "python3"
  },
  "language_info": {
   "codemirror_mode": {
    "name": "ipython",
    "version": 3
   },
   "file_extension": ".py",
   "mimetype": "text/x-python",
   "name": "python",
   "nbconvert_exporter": "python",
   "pygments_lexer": "ipython3",
   "version": "3.11.4"
  }
 },
 "nbformat": 4,
 "nbformat_minor": 2
}
