{
 "cells": [
  {
   "cell_type": "code",
   "execution_count": 1,
   "metadata": {},
   "outputs": [],
   "source": [
    "import pandas as pd\n",
    "import seaborn as sns\n",
    "import numpy as np\n",
    "import os\n",
    "import sys\n",
    "\n",
    "from matplotlib import pyplot as plt\n",
    "from dotenv import load_dotenv\n",
    "\n",
    "sys.path.append(\"../\")\n",
    "\n",
    "load_dotenv()\n",
    "sns.color_palette('colorblind')\n",
    "plt.style.use('Solarize_Light2')\n",
    "\n",
    "# Setting default DPI, pulling it from dotenv if it exists, setting it on 100 if not\n",
    "\n",
    "try:\n",
    "    pc_dpi = int(os.getenv('DPI'))\n",
    "except TypeError:\n",
    "    pc_dpi = 100\n",
    "if pc_dpi is None:\n",
    "    pc_dpi = 100\n"
   ]
  },
  {
   "cell_type": "code",
   "execution_count": 2,
   "metadata": {},
   "outputs": [],
   "source": [
    "mtypes_path = \"../data/work_met_img_type_1.pkl\"\n",
    "\n",
    "df = pd.read_pickle(filepath_or_buffer=mtypes_path)\n"
   ]
  },
  {
   "cell_type": "code",
   "execution_count": 3,
   "metadata": {},
   "outputs": [
    {
     "data": {
      "text/plain": [
       "mtype\n",
       "H5       84\n",
       "L6       42\n",
       "H6       34\n",
       "LL5      21\n",
       "None     18\n",
       "H5-6     10\n",
       "LL6       8\n",
       "L5        7\n",
       "LL5-6     1\n",
       "L5-6      1\n",
       "CV3       1\n",
       "L4        1\n",
       "L3.8      1\n",
       "LL4       1\n",
       "Name: count, dtype: int64"
      ]
     },
     "execution_count": 3,
     "metadata": {},
     "output_type": "execute_result"
    }
   ],
   "source": [
    "df[\"mtype\"].value_counts(dropna=False)\n"
   ]
  },
  {
   "cell_type": "markdown",
   "metadata": {},
   "source": [
    "# Purpose :\n",
    "- Removing the classes that have a support too low for the model to gain enough insight on it."
   ]
  },
  {
   "cell_type": "code",
   "execution_count": 4,
   "metadata": {},
   "outputs": [
    {
     "data": {
      "text/html": [
       "<div>\n",
       "<style scoped>\n",
       "    .dataframe tbody tr th:only-of-type {\n",
       "        vertical-align: middle;\n",
       "    }\n",
       "\n",
       "    .dataframe tbody tr th {\n",
       "        vertical-align: top;\n",
       "    }\n",
       "\n",
       "    .dataframe thead th {\n",
       "        text-align: right;\n",
       "    }\n",
       "</style>\n",
       "<table border=\"1\" class=\"dataframe\">\n",
       "  <thead>\n",
       "    <tr style=\"text-align: right;\">\n",
       "      <th></th>\n",
       "      <th>work_name</th>\n",
       "      <th>mtype</th>\n",
       "      <th>images</th>\n",
       "    </tr>\n",
       "  </thead>\n",
       "  <tbody>\n",
       "    <tr>\n",
       "      <th>57</th>\n",
       "      <td>GC029</td>\n",
       "      <td>None</td>\n",
       "      <td>[GC029_T5-2.jpg, GC029_T5.jpg, GC029-T5.jpg]</td>\n",
       "    </tr>\n",
       "    <tr>\n",
       "      <th>71</th>\n",
       "      <td>GC020</td>\n",
       "      <td>None</td>\n",
       "      <td>[GC020-TROILITE.jpg]</td>\n",
       "    </tr>\n",
       "    <tr>\n",
       "      <th>81</th>\n",
       "      <td>GC234</td>\n",
       "      <td>None</td>\n",
       "      <td>[GC234-3.jpg, GC234-.jpg, GC234.jpg, GC234-chr...</td>\n",
       "    </tr>\n",
       "    <tr>\n",
       "      <th>87</th>\n",
       "      <td>GC015</td>\n",
       "      <td>None</td>\n",
       "      <td>[GC015-3.jpg, GC015-2.jpg]</td>\n",
       "    </tr>\n",
       "    <tr>\n",
       "      <th>88</th>\n",
       "      <td>GC023</td>\n",
       "      <td>None</td>\n",
       "      <td>[GC023-odd-CHONDRULES.jpg, GC023.jpg, GC023-2....</td>\n",
       "    </tr>\n",
       "    <tr>\n",
       "      <th>90</th>\n",
       "      <td>GC021</td>\n",
       "      <td>None</td>\n",
       "      <td>[GC021_T5.jpg, GC021_T5-2.jpg]</td>\n",
       "    </tr>\n",
       "    <tr>\n",
       "      <th>108</th>\n",
       "      <td>GC067</td>\n",
       "      <td>None</td>\n",
       "      <td>[GC067_T5-2.jpg, GC067_T5.jpg]</td>\n",
       "    </tr>\n",
       "    <tr>\n",
       "      <th>124</th>\n",
       "      <td>GC014b</td>\n",
       "      <td>None</td>\n",
       "      <td>[GC014b-T5-2.jpg, GC014b_Odd-PLAGIO-rim.jpg, G...</td>\n",
       "    </tr>\n",
       "    <tr>\n",
       "      <th>125</th>\n",
       "      <td>G209</td>\n",
       "      <td>None</td>\n",
       "      <td>[G209.jpg]</td>\n",
       "    </tr>\n",
       "    <tr>\n",
       "      <th>133</th>\n",
       "      <td>GC019</td>\n",
       "      <td>None</td>\n",
       "      <td>[GC019.jpg, GC019-T5.jpg]</td>\n",
       "    </tr>\n",
       "    <tr>\n",
       "      <th>141</th>\n",
       "      <td>GC024</td>\n",
       "      <td>None</td>\n",
       "      <td>[GC024.jpg, GC024-2.jpg, GC024-3.jpg, GC024-4....</td>\n",
       "    </tr>\n",
       "    <tr>\n",
       "      <th>149</th>\n",
       "      <td>RM0182</td>\n",
       "      <td>None</td>\n",
       "      <td>[RM0182.jpg]</td>\n",
       "    </tr>\n",
       "    <tr>\n",
       "      <th>168</th>\n",
       "      <td>G015</td>\n",
       "      <td>None</td>\n",
       "      <td>[G015.jpg]</td>\n",
       "    </tr>\n",
       "    <tr>\n",
       "      <th>175</th>\n",
       "      <td>RM0833</td>\n",
       "      <td>None</td>\n",
       "      <td>[RM0833.jpg]</td>\n",
       "    </tr>\n",
       "    <tr>\n",
       "      <th>180</th>\n",
       "      <td>MV064a</td>\n",
       "      <td>None</td>\n",
       "      <td>[MV064a.jpg, MV064a-4.jpg, MV064a-2.jpg, MV064...</td>\n",
       "    </tr>\n",
       "    <tr>\n",
       "      <th>188</th>\n",
       "      <td>GC010</td>\n",
       "      <td>None</td>\n",
       "      <td>[GC010.jpg]</td>\n",
       "    </tr>\n",
       "    <tr>\n",
       "      <th>197</th>\n",
       "      <td>MV064b</td>\n",
       "      <td>None</td>\n",
       "      <td>[MV064b.jpg, MV064b-2.jpg]</td>\n",
       "    </tr>\n",
       "    <tr>\n",
       "      <th>228</th>\n",
       "      <td>MC176</td>\n",
       "      <td>None</td>\n",
       "      <td>[MC176.jpg]</td>\n",
       "    </tr>\n",
       "  </tbody>\n",
       "</table>\n",
       "</div>"
      ],
      "text/plain": [
       "    work_name mtype                                             images\n",
       "57      GC029  None       [GC029_T5-2.jpg, GC029_T5.jpg, GC029-T5.jpg]\n",
       "71      GC020  None                               [GC020-TROILITE.jpg]\n",
       "81      GC234  None  [GC234-3.jpg, GC234-.jpg, GC234.jpg, GC234-chr...\n",
       "87      GC015  None                         [GC015-3.jpg, GC015-2.jpg]\n",
       "88      GC023  None  [GC023-odd-CHONDRULES.jpg, GC023.jpg, GC023-2....\n",
       "90      GC021  None                     [GC021_T5.jpg, GC021_T5-2.jpg]\n",
       "108     GC067  None                     [GC067_T5-2.jpg, GC067_T5.jpg]\n",
       "124    GC014b  None  [GC014b-T5-2.jpg, GC014b_Odd-PLAGIO-rim.jpg, G...\n",
       "125      G209  None                                         [G209.jpg]\n",
       "133     GC019  None                          [GC019.jpg, GC019-T5.jpg]\n",
       "141     GC024  None  [GC024.jpg, GC024-2.jpg, GC024-3.jpg, GC024-4....\n",
       "149    RM0182  None                                       [RM0182.jpg]\n",
       "168      G015  None                                         [G015.jpg]\n",
       "175    RM0833  None                                       [RM0833.jpg]\n",
       "180    MV064a  None  [MV064a.jpg, MV064a-4.jpg, MV064a-2.jpg, MV064...\n",
       "188     GC010  None                                        [GC010.jpg]\n",
       "197    MV064b  None                         [MV064b.jpg, MV064b-2.jpg]\n",
       "228     MC176  None                                        [MC176.jpg]"
      ]
     },
     "execution_count": 4,
     "metadata": {},
     "output_type": "execute_result"
    }
   ],
   "source": [
    "df[df[\"mtype\"].isna()]\n"
   ]
  },
  {
   "cell_type": "markdown",
   "metadata": {},
   "source": [
    "## Manually inputing the correct type :\n",
    "\n",
    "- RMd : GB39, GC002, GC005, GC004, MB154, GC014c, MA294, GC026\n",
    "- MV : GC0942 to GC094-2\n",
    "\n",
    "---------\n",
    "\n",
    "- H5 : GC020, GC234, GC023, MC176, GC010, G209, GC014b, GC021\n",
    "- H6 : GC024,\n",
    "- LL : \n",
    "- L5 : GC029, GC019\n",
    "- L6 : GC015, MV064b, MV064a, G015,\n",
    "\n",
    "- H5-6 : RM0833, RM0182"
   ]
  },
  {
   "cell_type": "code",
   "execution_count": 5,
   "metadata": {},
   "outputs": [],
   "source": [
    "mtype_h5 = [\"GC020\", \"GC234\", \"GC023\", \"MC176\", \"GC010\", \"G209\", \"GC014b\", \"GC021\"]\n",
    "mtype_h6 = [\"GC024\"]\n",
    "mtype_l5 = [\"GC029\", \"GC019\"]\n",
    "mtype_l6 = [\"GC015\", \"MV064b\", \"MV064a\", \"G015\"]\n",
    "mtype_h56 = [\"RM0833\", \"RM0182\"]\n"
   ]
  },
  {
   "cell_type": "code",
   "execution_count": 7,
   "metadata": {},
   "outputs": [],
   "source": [
    "for work_met in mtype_h5:\n",
    "    df.loc[df[\"work_name\"] == work_met, \"mtype\"] = \"H5\"\n",
    "\n",
    "for work_met in mtype_h6:\n",
    "    df.loc[df[\"work_name\"] == work_met, \"mtype\"] = \"H6\"\n",
    "\n",
    "for work_met in mtype_l5:\n",
    "    df.loc[df[\"work_name\"] == work_met, \"mtype\"] = \"L5\"\n",
    "\n",
    "for work_met in mtype_l6:\n",
    "    df.loc[df[\"work_name\"] == work_met, \"mtype\"] = \"L6\"\n",
    "\n",
    "for work_met in mtype_h56:\n",
    "    df.loc[df[\"work_name\"] == work_met, \"mtype\"] = \"H5-6\"\n"
   ]
  },
  {
   "cell_type": "code",
   "execution_count": 8,
   "metadata": {},
   "outputs": [
    {
     "data": {
      "text/plain": [
       "mtype\n",
       "H5       92\n",
       "L6       46\n",
       "H6       35\n",
       "LL5      21\n",
       "H5-6     12\n",
       "L5        9\n",
       "LL6       8\n",
       "LL5-6     1\n",
       "L5-6      1\n",
       "CV3       1\n",
       "L4        1\n",
       "None      1\n",
       "L3.8      1\n",
       "LL4       1\n",
       "Name: count, dtype: int64"
      ]
     },
     "execution_count": 8,
     "metadata": {},
     "output_type": "execute_result"
    }
   ],
   "source": [
    "df[\"mtype\"].value_counts(dropna=False)\n"
   ]
  },
  {
   "cell_type": "code",
   "execution_count": 16,
   "metadata": {},
   "outputs": [],
   "source": [
    "def get_image_count(df):\n",
    "    df_exploded = df.explode(\"images\")\n",
    "    \n",
    "    image_counts = df_exploded[\"mtype\"].value_counts()\n",
    "    \n",
    "    return image_counts\n"
   ]
  },
  {
   "cell_type": "code",
   "execution_count": 17,
   "metadata": {},
   "outputs": [
    {
     "data": {
      "text/plain": [
       "mtype\n",
       "H5       254\n",
       "L6       164\n",
       "H6       127\n",
       "LL5       50\n",
       "H5-6      32\n",
       "LL6       30\n",
       "L5        27\n",
       "L5-6       4\n",
       "L4         4\n",
       "LL5-6      3\n",
       "L3.8       3\n",
       "CV3        2\n",
       "LL4        2\n",
       "Name: count, dtype: int64"
      ]
     },
     "execution_count": 17,
     "metadata": {},
     "output_type": "execute_result"
    }
   ],
   "source": [
    "get_image_count(df)\n"
   ]
  },
  {
   "cell_type": "markdown",
   "metadata": {},
   "source": [
    "## Conclusion : \n",
    "- We can remove the classes that have a very low support (below 27 @ l5), and run augments on classes that have less than 100 images, augment just a bit the H6 and L6 class and leave H5 alone, the goal is to have a uniform dataset with enough data on minority classes to be able to generalize\n",
    "- Let's save the updated dataset :"
   ]
  },
  {
   "cell_type": "code",
   "execution_count": 18,
   "metadata": {},
   "outputs": [],
   "source": [
    "df.to_csv(path_or_buf=\"../data/work_met_img_type_2.csv\", index=None)\n",
    "df.to_pickle(path=\"../data/work_met_img_type_2.pkl\")\n"
   ]
  }
 ],
 "metadata": {
  "kernelspec": {
   "display_name": "env",
   "language": "python",
   "name": "python3"
  },
  "language_info": {
   "codemirror_mode": {
    "name": "ipython",
    "version": 3
   },
   "file_extension": ".py",
   "mimetype": "text/x-python",
   "name": "python",
   "nbconvert_exporter": "python",
   "pygments_lexer": "ipython3",
   "version": "3.11.10"
  }
 },
 "nbformat": 4,
 "nbformat_minor": 2
}
